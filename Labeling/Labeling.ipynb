{
  "cells": [
    {
      "cell_type": "code",
      "execution_count": null,
      "metadata": {
        "id": "xVDJeliPcvSY"
      },
      "outputs": [],
      "source": [
        "import cv2\n",
        "import matplotlib.pyplot as plt\n",
        "import numpy as np\n",
        "import os\n",
        "import shutil\n",
        "import glob, os\n",
        "import random"
      ]
    },
    {
      "cell_type": "code",
      "execution_count": null,
      "metadata": {
        "id": "2awLgqsmk6-B"
      },
      "outputs": [],
      "source": [
        "def extract_label(img_path):\n",
        "    filename, _ = os.path.splitext(os.path.basename(img_path))\n",
        "\n",
        "    subject_id, etc = filename.split('__')\n",
        "    gender, lr, finger, _ = etc.split('_')\n",
        "\n",
        "    gender = 0 if gender == 'M' else 1\n",
        "    lr = 0 if lr =='Left' else 1\n",
        "\n",
        "    if finger == 'thumb':\n",
        "        finger = 0\n",
        "    elif finger == 'index':\n",
        "        finger = 1\n",
        "    elif finger == 'middle':\n",
        "        finger = 2\n",
        "    elif finger == 'ring':\n",
        "        finger = 3\n",
        "    elif finger == 'little':\n",
        "        finger = 4\n",
        "\n",
        "    return np.array([subject_id, lr, finger], dtype=np.uint16)\n",
        "\n",
        "def extract_label2(img_path):\n",
        "    filename, _ = os.path.splitext(os.path.basename(img_path))\n",
        "\n",
        "    subject_id, etc = filename.split('__')\n",
        "    gender, lr, finger, _, _ = etc.split('_')\n",
        "\n",
        "    gender = 0 if gender == 'M' else 1\n",
        "    lr = 0 if lr =='Left' else 1\n",
        "\n",
        "    if finger == 'thumb':\n",
        "        finger = 0\n",
        "    elif finger == 'index':\n",
        "        finger = 1\n",
        "    elif finger == 'middle':\n",
        "        finger = 2\n",
        "    elif finger == 'ring':\n",
        "        finger = 3\n",
        "    elif finger == 'little':\n",
        "        finger = 4\n",
        "\n",
        "    return np.array([subject_id, lr, finger], dtype=np.uint16)"
      ]
    },
    {
      "cell_type": "code",
      "execution_count": null,
      "metadata": {
        "colab": {
          "base_uri": "https://localhost:8080/",
          "height": 575
        },
        "id": "wxgW9MEOlFk5",
        "outputId": "84d7960c-1ad9-4358-9601-1463c35a8720"
      },
      "outputs": [],
      "source": [
        "img_list = sorted(glob.glob('C:/Users/h4uh4/OneDrive/Desktop/Skripsi_Bimbingan/Fingerprint/DataFinal/SOCOFing/Real/*.BMP'))\n",
        "print(len(img_list))\n",
        "\n",
        "imgs = np.empty((len(img_list), 96, 96), dtype=np.uint8)\n",
        "labels = np.empty((len(img_list), 3), dtype=np.uint16)\n",
        "\n",
        "for i, img_path in enumerate(img_list):\n",
        "    img = cv2.imread(img_path, cv2.IMREAD_GRAYSCALE)\n",
        "    img = cv2.resize(img, (96, 96))\n",
        "    imgs[i] = img\n",
        "    labels[i] = extract_label(img_path)\n",
        "\n",
        "\n",
        "np.savez('C:/Users/h4uh4/OneDrive/Desktop/Skripsi_Bimbingan/Fingerprint/DataFinal/SOCOFing/dataset/x_real.npz', data=imgs)\n",
        "np.save('C:/Users/h4uh4/OneDrive/Desktop/Skripsi_Bimbingan/Fingerprint/DataFinal/SOCOFing/dataset/y_real.npy', labels)\n",
        "\n",
        "num_images_to_display = 3 \n",
        "random_indices = np.random.choice(len(imgs), num_images_to_display, replace=False)\n",
        "fig, axes = plt.subplots(1, num_images_to_display, figsize=(15, 5))\n",
        "\n",
        "for i, idx in enumerate(random_indices):\n",
        "    ax = axes[i]\n",
        "    ax.imshow(imgs[idx], cmap='gray')\n",
        "    ax.set_title(f\"Label: {labels[idx]}\", fontsize=10)\n",
        "    ax.text(0.5, -0.1, f\"File: {os.path.basename(img_list[idx])}\", ha='center', va='top', fontsize=8, transform=ax.transAxes)\n",
        "    ax.axis('off')\n",
        "\n",
        "plt.tight_layout()\n",
        "plt.show()"
      ]
    },
    {
      "cell_type": "code",
      "execution_count": null,
      "metadata": {
        "colab": {
          "base_uri": "https://localhost:8080/",
          "height": 575
        },
        "id": "2hucMksgmdC-",
        "outputId": "cce7c6b1-0b84-449b-eada-927918d0aac6"
      },
      "outputs": [],
      "source": [
        "img_list = sorted(glob.glob('C:/Users/h4uh4/OneDrive/Desktop/Skripsi_Bimbingan/Fingerprint/DataFinal/SOCOFing/Altered/Altered-Easy/*.BMP'))\n",
        "print(len(img_list))\n",
        "\n",
        "imgs = np.empty((len(img_list), 96, 96), dtype=np.uint8)\n",
        "labels = np.empty((len(img_list), 3), dtype=np.uint16)\n",
        "\n",
        "for i, img_path in enumerate(img_list):\n",
        "    img = cv2.imread(img_path, cv2.IMREAD_GRAYSCALE)\n",
        "    img = cv2.resize(img, (96, 96))\n",
        "    imgs[i] = img\n",
        "    labels[i] = extract_label2(img_path)\n",
        "\n",
        "np.savez('C:/Users/h4uh4/OneDrive/Desktop/Skripsi_Bimbingan/Fingerprint/DataFinal/SOCOFing/dataset/x_easy.npz', data=imgs)\n",
        "np.save('C:/Users/h4uh4/OneDrive/Desktop/Skripsi_Bimbingan/Fingerprint/DataFinal/SOCOFing/dataset/y_easy.npy', labels)\n",
        "\n",
        "num_images_to_display = 3 \n",
        "random_indices = np.random.choice(len(imgs), num_images_to_display, replace=False)\n",
        "fig, axes = plt.subplots(1, num_images_to_display, figsize=(15, 5))\n",
        "\n",
        "for i, idx in enumerate(random_indices):\n",
        "    ax = axes[i]\n",
        "    ax.imshow(imgs[idx], cmap='gray')\n",
        "    ax.set_title(f\"Label: {labels[idx]}\", fontsize=10)\n",
        "    ax.text(0.5, -0.1, f\"File: {os.path.basename(img_list[idx])}\", ha='center', va='top', fontsize=8, transform=ax.transAxes)\n",
        "    ax.axis('off')\n",
        "\n",
        "plt.tight_layout()\n",
        "plt.show()"
      ]
    },
    {
      "cell_type": "code",
      "execution_count": null,
      "metadata": {
        "colab": {
          "base_uri": "https://localhost:8080/",
          "height": 575
        },
        "id": "9n0SSG0-mejE",
        "outputId": "20013a31-0a3d-45c2-db56-7617b9209da9"
      },
      "outputs": [],
      "source": [
        "img_list = sorted(glob.glob('C:/Users/h4uh4/OneDrive/Desktop/Skripsi_Bimbingan/Fingerprint/DataFinal/SOCOFing/Altered/Altered-Medium/*.BMP'))\n",
        "print(len(img_list))\n",
        "\n",
        "imgs = np.empty((len(img_list), 96, 96), dtype=np.uint8)\n",
        "labels = np.empty((len(img_list), 3), dtype=np.uint16)\n",
        "\n",
        "for i, img_path in enumerate(img_list):\n",
        "    img = cv2.imread(img_path, cv2.IMREAD_GRAYSCALE)\n",
        "    img = cv2.resize(img, (96, 96))\n",
        "    imgs[i] = img\n",
        "    labels[i] = extract_label2(img_path)\n",
        "\n",
        "np.savez('C:/Users/h4uh4/OneDrive/Desktop/Skripsi_Bimbingan/Fingerprint/DataFinal/SOCOFing/dataset/x_medium.npz', data=imgs)\n",
        "np.save('C:/Users/h4uh4/OneDrive/Desktop/Skripsi_Bimbingan/Fingerprint/DataFinal/SOCOFing/dataset/y_medium.npy', labels)\n",
        "\n",
        "num_images_to_display = 3 \n",
        "random_indices = np.random.choice(len(imgs), num_images_to_display, replace=False)\n",
        "fig, axes = plt.subplots(1, num_images_to_display, figsize=(15, 5))\n",
        "\n",
        "for i, idx in enumerate(random_indices):\n",
        "    ax = axes[i]\n",
        "    ax.imshow(imgs[idx], cmap='gray')\n",
        "    ax.set_title(f\"Label: {labels[idx]}\", fontsize=10)\n",
        "    ax.text(0.5, -0.1, f\"File: {os.path.basename(img_list[idx])}\", ha='center', va='top', fontsize=8, transform=ax.transAxes)\n",
        "    ax.axis('off')\n",
        "\n",
        "plt.tight_layout()\n",
        "plt.show()"
      ]
    },
    {
      "cell_type": "code",
      "execution_count": null,
      "metadata": {
        "colab": {
          "base_uri": "https://localhost:8080/",
          "height": 575
        },
        "id": "u0NS3Sknmgdl",
        "outputId": "ac768e97-ae54-49a5-e4ff-506290a0f5f0"
      },
      "outputs": [],
      "source": [
        "img_list = sorted(glob.glob('C:/Users/h4uh4/OneDrive/Desktop/Skripsi_Bimbingan/Fingerprint/DataFinal/SOCOFing/Altered/Altered-Hard/*.BMP'))\n",
        "print(len(img_list))\n",
        "\n",
        "imgs = np.empty((len(img_list), 96, 96), dtype=np.uint8)\n",
        "labels = np.empty((len(img_list), 3), dtype=np.uint16)\n",
        "\n",
        "for i, img_path in enumerate(img_list):\n",
        "    img = cv2.imread(img_path, cv2.IMREAD_GRAYSCALE)\n",
        "    img = cv2.resize(img, (96, 96))\n",
        "    imgs[i] = img\n",
        "    labels[i] = extract_label2(img_path)\n",
        "\n",
        "np.savez('C:/Users/h4uh4/OneDrive/Desktop/Skripsi_Bimbingan/Fingerprint/DataFinal/SOCOFing/dataset/x_hard.npz', data=imgs)\n",
        "np.save('C:/Users/h4uh4/OneDrive/Desktop/Skripsi_Bimbingan/Fingerprint/DataFinal/SOCOFing/dataset/y_hard.npy', labels)\n",
        "\n",
        "num_images_to_display = 3 \n",
        "random_indices = np.random.choice(len(imgs), num_images_to_display, replace=False)\n",
        "fig, axes = plt.subplots(1, num_images_to_display, figsize=(15, 5))\n",
        "\n",
        "for i, idx in enumerate(random_indices):\n",
        "    ax = axes[i]\n",
        "    ax.imshow(imgs[idx], cmap='gray')\n",
        "    ax.set_title(f\"Label: {labels[idx]}\", fontsize=10)\n",
        "    ax.text(0.5, -0.1, f\"File: {os.path.basename(img_list[idx])}\", ha='center', va='top', fontsize=8, transform=ax.transAxes)\n",
        "    ax.axis('off')\n",
        "\n",
        "plt.tight_layout()\n",
        "plt.show()"
      ]
    }
  ],
  "metadata": {
    "accelerator": "GPU",
    "colab": {
      "gpuType": "T4",
      "provenance": []
    },
    "kernelspec": {
      "display_name": "Python 3",
      "name": "python3"
    },
    "language_info": {
      "name": "python"
    }
  },
  "nbformat": 4,
  "nbformat_minor": 0
}
